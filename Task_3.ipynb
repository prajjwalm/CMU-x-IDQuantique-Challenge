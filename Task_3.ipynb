{
 "cells": [
  {
   "cell_type": "code",
   "execution_count": null,
   "id": "464d9248",
   "metadata": {},
   "outputs": [],
   "source": [
    "# Package Imports - feel free to add what you think might be useful! \n",
    "%pip install requests\n",
    "import requests"
   ]
  },
  {
   "cell_type": "markdown",
   "id": "41bd5b50",
   "metadata": {},
   "source": [
    "## Task 3: Quest for Quantum Randomness"
   ]
  },
  {
   "cell_type": "markdown",
   "id": "5af55384",
   "metadata": {},
   "source": [
    "### Part A: Truly Different"
   ]
  },
  {
   "cell_type": "code",
   "execution_count": null,
   "id": "67b421a6",
   "metadata": {},
   "outputs": [],
   "source": [
    "\"\"\" \n",
    "Using the QRNGaaS User Manual provided, \n",
    "write Python code to get random numbers from IDQuantique's Quantum Random Number Generators. \n",
    "\n",
    "The API documentation is available at: https://drive.google.com/file/d/1OkyRUP7HC4dbmi8OvoT4EuvXqRVGdsjD/view\n",
    "You'll probably reuse this code for Task 4. So write it well!\n",
    "\n",
    "If you are unfamiliar with writing HTTP requests in Python, \n",
    "https://www.w3schools.com/python/module_requests.asp\n",
    "\n",
    "If you're really stuck, this can definitely help. Though we encourage you to read the documentation yourself! \n",
    "https://curlconverter.com/python/\n",
    "\"\"\""
   ]
  },
  {
   "cell_type": "code",
   "execution_count": null,
   "id": "04f18019",
   "metadata": {},
   "outputs": [
    {
     "name": "stdout",
     "output_type": "stream",
     "text": [
      "{'data': [-1824, 20570, -357, -31042, -31036, -29674, -26356, 23832, -32753, 1054], 'dataType': 'int16'}\n"
     ]
    }
   ],
   "source": [
    "\"\"\"\n",
    "To get started, we provide a simple example of how to use the API to generate 10 int16 random numbers.\n",
    "In particular, observe where we pass in the min and max parameters to specify the range of random numbers we want\n",
    "and the quantity parameter to specify how many random numbers we want.\n",
    "Here is the API KEY you will need to use: aTo4BKRvnc49uRWDk034zaua87vGRXKk9TMLdfkI\n",
    "\"\"\"\n",
    "import requests\n",
    "\n",
    "def api_call_qrng(data_type='short', quantity=10, min_val=None, max_val=None):\n",
    "    \"\"\"\n",
    "    Fetches random numbers from the QRNG API.\n",
    "\n",
    "    Args:\n",
    "        api_key (str): Your QRNG API key.\n",
    "        data_type (str): One of 'short', 'int', or 'double'.\n",
    "        quantity (int): Number of random values to fetch.\n",
    "        min_val (int or float, optional): Optional minimum value.\n",
    "        max_val (int or float, optional): Optional maximum value.\n",
    "\n",
    "    Returns:\n",
    "        dict: A dictionary with keys 'data', 'dataType', or 'error'.\n",
    "    \"\"\"\n",
    "    base_url = \"https://qrng.idqloud.com/api/1.0/\"\n",
    "    endpoint = f\"{base_url}{data_type}\"\n",
    "    headers = {\"X-API-KEY\": 'aTo4BKRvnc49uRWDk034zaua87vGRXKk9TMLdfkI'}\n",
    "    params = {\"quantity\": quantity}\n",
    "\n",
    "    # Only include min/max if specified\n",
    "    if min_val is not None:\n",
    "        params[\"min\"] = min_val\n",
    "    if max_val is not None:\n",
    "        params[\"max\"] = max_val\n",
    "\n",
    "    try:\n",
    "        response = requests.get(endpoint, headers=headers, params=params)\n",
    "        response.raise_for_status()\n",
    "        result = response.json()\n",
    "\n",
    "        return {\n",
    "            \"data\": result.get(\"data\"),\n",
    "            \"dataType\": result.get(\"dataType\")\n",
    "        }\n",
    "    except requests.exceptions.RequestException as e:\n",
    "        return {\"error\": str(e)}\n",
    "\n",
    "result1 = api_call_qrng()\n",
    "print(result1)\n"
   ]
  },
  {
   "cell_type": "code",
   "execution_count": null,
   "id": "24226678",
   "metadata": {},
   "outputs": [],
   "source": [
    "\"\"\"\n",
    "You can paste the other environmental entropy based TRNGs from Task 2 and compare the performance\n",
    "Compare your written QRNG to the previous TRNGs. Be sure to compare them with respect to bitrate and entropy.\n",
    "\"\"\"\n",
    "def plot_entropy():\n",
    "    pass # TODO\n",
    "\n",
    "def get_bitrate():\n",
    "    pass # TODO"
   ]
  },
  {
   "cell_type": "markdown",
   "id": "ee04daba",
   "metadata": {},
   "source": [
    "### Part B: Easy as Pi!"
   ]
  },
  {
   "cell_type": "code",
   "execution_count": null,
   "id": "b0155461",
   "metadata": {},
   "outputs": [],
   "source": [
    "\"\"\"\n",
    "Implement the Monte Carlo algorithm for estimating Pi using your various sources of randomness. \n",
    "\n",
    "If you are stuck on how to implement the algorithm: \n",
    "https://www.geeksforgeeks.org/estimating-value-pi-using-monte-carlo/\n",
    "\"\"\"\n",
    "def estimate_pi():\n",
    "    pass # TODO"
   ]
  }
 ],
 "metadata": {
  "kernelspec": {
   "display_name": ".venv",
   "language": "python",
   "name": "python3"
  },
  "language_info": {
   "codemirror_mode": {
    "name": "ipython",
    "version": 3
   },
   "file_extension": ".py",
   "mimetype": "text/x-python",
   "name": "python",
   "nbconvert_exporter": "python",
   "pygments_lexer": "ipython3",
   "version": "3.12.3"
  }
 },
 "nbformat": 4,
 "nbformat_minor": 5
}
